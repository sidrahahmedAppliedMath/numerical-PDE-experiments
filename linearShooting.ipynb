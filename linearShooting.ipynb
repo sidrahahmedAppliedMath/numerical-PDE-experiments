{
  "nbformat": 4,
  "nbformat_minor": 0,
  "metadata": {
    "colab": {
      "provenance": [],
      "authorship_tag": "ABX9TyNXBCw3WkeUXW/+0rQhRc2v",
      "include_colab_link": true
    },
    "kernelspec": {
      "name": "python3",
      "display_name": "Python 3"
    },
    "language_info": {
      "name": "python"
    }
  },
  "cells": [
    {
      "cell_type": "markdown",
      "metadata": {
        "id": "view-in-github",
        "colab_type": "text"
      },
      "source": [
        "<a href=\"https://colab.research.google.com/github/sidrahahmedAppliedMath/numerical-PDE-experiments/blob/main/linearShooting.ipynb\" target=\"_parent\"><img src=\"https://colab.research.google.com/assets/colab-badge.svg\" alt=\"Open In Colab\"/></a>"
      ]
    },
    {
      "cell_type": "code",
      "execution_count": null,
      "metadata": {
        "colab": {
          "base_uri": "https://localhost:8080/",
          "height": 503
        },
        "id": "5kK7-poj4F2j",
        "outputId": "9a72754f-4306-47d7-fdd9-3b0e2fa28a9f"
      },
      "outputs": [
        {
          "output_type": "stream",
          "name": "stdout",
          "text": [
            "[1, 1.100140433528812, 1.2005984943013555, 1.3012505279813742, 1.4020168397130317, 1.5028453925205738, 1.6037019421250658, 1.7045639036846485, 1.8054164489330713, 1.9062499721484238, 2.0070584160094955]\n",
            "0\n"
          ]
        },
        {
          "output_type": "execute_result",
          "data": {
            "text/plain": [
              "[<matplotlib.lines.Line2D at 0x7ef969168580>]"
            ]
          },
          "metadata": {},
          "execution_count": 7
        },
        {
          "output_type": "display_data",
          "data": {
            "text/plain": [
              "<Figure size 640x480 with 1 Axes>"
            ],
            "image/png": "[encoded data removed]"
          },
          "metadata": {}
        }
      ],
      "source": [
        "from  numpy import*\n",
        "from matplotlib import*\n",
        "def rk4(f1,f2 ,a, b, N, alpha,guess):\n",
        "  h = (b - a) / N\n",
        "  t = a\n",
        "  ans1 = [alpha]\n",
        "  w1 = alpha  #this is y(a)\n",
        "  w2 = guess   #this is y'(a)\n",
        "\n",
        "    # Step 1 OUTPUT (t, w).\n",
        "  #print((t, w1)) #since we only need y(t)\n",
        "    # Step 2 For i = 1, 2, ... , N do Steps 3–5.\n",
        "  for i in range(1, N + 1):\n",
        "      K11 = h * f1( w2)\n",
        "      K21 = h * f2(t, w1,w2)\n",
        "      K12 = h * f1( w2 + K21 / 2)\n",
        "      K22 = h * f2( t+h/2, w1 + K11 / 2, w2 + K21/2)\n",
        "      K13 = h * f1( w2 + K22 / 2)\n",
        "      K23 = h * f2(t + h / 2, w1 + K12 / 2, w2 +K22/2)\n",
        "      K14 = h * f1( w2 + K23)\n",
        "      k24 = h * f2(t + h, w1 + K13, w2 + K23)\n",
        "\n",
        "\n",
        "\n",
        "# Step 4 Set w = w + (K1 + 2K2 + 2K3 + K4)/6; (Compute wi.)\n",
        "\n",
        "      w1 = w1 + (K11 + 2 * K12 + 2 * K13 + K14) / 6\n",
        "      t = a + i * h  # (Compute ti.)\n",
        "      ans1.append(w1)\n",
        "      #print((ans1))  # Step 5 OUTPUT (t, w).\n",
        "\n",
        "  return ans1\n",
        "\n",
        "\n",
        "    # Step 6 STOP.\n",
        "\n",
        "\n",
        "# Usage\n",
        "\n",
        "# Define the function f(t, y) for the particular problem\n",
        "def f1(yp):\n",
        "  return yp\n",
        "def f2(t, y, yp):\n",
        "  return -2*yp/t + 2*y/t**2 + sin(log(t))/t**2\n",
        "\n",
        "# Replace above line with the appropriate function for your problem\n",
        "\n",
        "# Input endpoints a, b; integer N; initial condition alpha\n",
        "a = 1\n",
        "b = 2\n",
        "N = int(10)\n",
        "alpha = 1\n",
        "guess1 = 0\n",
        "guess2 = 1\n",
        "\n",
        "# Now, Call the function\n",
        "case1 = rk4(f1, f2, a, b, N, alpha, guess1)\n",
        "case2 = rk4(f1, f2, a, b, N, alpha, guess2)\n",
        "print(case2)\n",
        "\n",
        "numr = case2[N]-case1[N]\n",
        "lam = (2.0 - case2[N])/(case1[N]-case2[N])\n",
        "\n",
        "y = lam*array(case1) + (1-lam)*array(case2)\n",
        "print(round(y[N]-2.0))\n",
        "pyplot.plot(y)"
      ]
    }
  ]
}